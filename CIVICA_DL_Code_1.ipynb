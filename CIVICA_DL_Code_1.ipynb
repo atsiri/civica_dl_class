{
  "nbformat": 4,
  "nbformat_minor": 0,
  "metadata": {
    "colab": {
      "name": "CIVICA_DL_Code_1.ipynb",
      "provenance": [],
      "collapsed_sections": [],
      "authorship_tag": "ABX9TyOI2UkcK5vW44DoTRAJqU9K",
      "include_colab_link": true
    },
    "kernelspec": {
      "name": "ir",
      "display_name": "R"
    },
    "language_info": {
      "name": "R"
    }
  },
  "cells": [
    {
      "cell_type": "markdown",
      "metadata": {
        "id": "view-in-github",
        "colab_type": "text"
      },
      "source": [
        "<a href=\"https://colab.research.google.com/github/chrisguarnold/civica_dl_class/blob/main/CIVICA_DL_Code_1.ipynb\" target=\"_parent\"><img src=\"https://colab.research.google.com/assets/colab-badge.svg\" alt=\"Open In Colab\"/></a>"
      ]
    },
    {
      "cell_type": "markdown",
      "metadata": {
        "id": "kzEPcjc__9gz"
      },
      "source": [
        "\n",
        "# Code Nr. 1: The MNIST Data Set\n",
        "## Introduction to Deep Learning\n",
        "## Civica Data Science Summer School, 29.7.2021\n",
        "Christian Arnold, Cardiff University\n",
        "\n",
        "\n"
      ]
    },
    {
      "cell_type": "markdown",
      "metadata": {
        "id": "WeJmfBQ3ArHJ"
      },
      "source": [
        "## 1 Housekeeping"
      ]
    },
    {
      "cell_type": "code",
      "metadata": {
        "id": "ee90VrAo7Wu1"
      },
      "source": [
        "# libraries\n",
        "install.packages('keras')\n",
        "library(keras)"
      ],
      "execution_count": null,
      "outputs": []
    },
    {
      "cell_type": "code",
      "metadata": {
        "id": "kCZ9MXqo7rXE"
      },
      "source": [
        "# download data\n",
        "mnist <- dataset_mnist()"
      ],
      "execution_count": null,
      "outputs": []
    },
    {
      "cell_type": "markdown",
      "metadata": {
        "id": "pN0fm2RNCKOZ"
      },
      "source": [
        "## 2 Preparing Data"
      ]
    },
    {
      "cell_type": "code",
      "metadata": {
        "id": "aPWNTuNjCrlr"
      },
      "source": [
        "# train data\n",
        "train_images <- mnist$train$x\n",
        "str(train_images)"
      ],
      "execution_count": null,
      "outputs": []
    },
    {
      "cell_type": "code",
      "metadata": {
        "id": "pgfrIEdzCrjS"
      },
      "source": [
        "train_images <- array_reshape(train_images, c(60000, 28*28))\n",
        "str(train_images)"
      ],
      "execution_count": null,
      "outputs": []
    },
    {
      "cell_type": "code",
      "metadata": {
        "id": "PuKAi0xcCrg5"
      },
      "source": [
        "train_images <- train_images/255"
      ],
      "execution_count": null,
      "outputs": []
    },
    {
      "cell_type": "code",
      "metadata": {
        "id": "GIMLESA_Cref"
      },
      "source": [
        "# test data \n",
        "test_images <- mnist$test$x\n",
        "test_images <- array_reshape(test_images, c(10000, 28*28))\n",
        "test_images <- test_images/255\n",
        "str(test_images) "
      ],
      "execution_count": null,
      "outputs": []
    },
    {
      "cell_type": "code",
      "metadata": {
        "id": "MlfUzatKCrb8"
      },
      "source": [
        "# targets\n",
        "train_labels <- mnist$train$y\n",
        "train_labels[1:10]\n"
      ],
      "execution_count": null,
      "outputs": []
    },
    {
      "cell_type": "code",
      "metadata": {
        "id": "fursc0C0CrZc"
      },
      "source": [
        "test_labels <- mnist$test$y\n",
        "train_labels <- to_categorical(train_labels)\n",
        "test_labels <- to_categorical(test_labels)\n",
        "str(train_labels)"
      ],
      "execution_count": null,
      "outputs": []
    },
    {
      "cell_type": "markdown",
      "metadata": {
        "id": "WIhAn9Z9DcRB"
      },
      "source": [
        "## 3 Model"
      ]
    },
    {
      "cell_type": "code",
      "metadata": {
        "id": "6IJR-W16CrWb"
      },
      "source": [
        "# Define the Network Architecture\n",
        "network <- keras_model_sequential() %>% \n",
        "    layer_dense(units = 512, activation = \"relu\", input_shape = c(28*28)) %>%\n",
        "    layer_dense(units = 10, activation = \"softmax\")"
      ],
      "execution_count": null,
      "outputs": []
    },
    {
      "cell_type": "code",
      "metadata": {
        "id": "Za1c108LCrTZ"
      },
      "source": [
        "# Compile \n",
        "network %>% compile(\n",
        "    optimizer = 'rmsprop',\n",
        "    loss = 'categorical_crossentropy',\n",
        "    metrics = c('accuracy')\n",
        ")"
      ],
      "execution_count": null,
      "outputs": []
    },
    {
      "cell_type": "markdown",
      "metadata": {
        "id": "3iMWivRxEEdM"
      },
      "source": [
        "## 4 Train"
      ]
    },
    {
      "cell_type": "code",
      "metadata": {
        "id": "iPLZezS58IHm"
      },
      "source": [
        "# Running the model\n",
        "history <- network %>% fit(train_images, train_labels, epochs = 5, batch_size = 128)"
      ],
      "execution_count": null,
      "outputs": []
    },
    {
      "cell_type": "code",
      "metadata": {
        "id": "1rdF8qdZ8sxL"
      },
      "source": [
        "# Visualise Results\n",
        "plot(history)"
      ],
      "execution_count": null,
      "outputs": []
    }
  ]
}